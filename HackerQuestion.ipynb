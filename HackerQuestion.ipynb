{
 "cells": [
  {
   "cell_type": "markdown",
   "metadata": {},
   "source": [
    "# Day 1"
   ]
  },
  {
   "cell_type": "markdown",
   "metadata": {},
   "source": [
    "Createa a fizzBuzz function based on peramaters"
   ]
  },
  {
   "cell_type": "code",
   "execution_count": 1,
   "metadata": {},
   "outputs": [
    {
     "name": "stdout",
     "output_type": "stream",
     "text": [
      "1\n",
      "2\n",
      "Fizz\n",
      "4\n",
      "Buzz\n",
      "Fizz\n",
      "7\n",
      "8\n",
      "Fizz\n",
      "Buzz\n",
      "11\n",
      "Fizz\n",
      "13\n",
      "14\n",
      "FizzBuzz\n"
     ]
    }
   ],
   "source": [
    "def fizzBuzz(n):\n",
    "    for i in range (1, n+1):\n",
    "        if i % 15 == 0:\n",
    "            print(\"FizzBuzz\")\n",
    "            continue\n",
    "        if i % 3 == 0:\n",
    "            print (\"Fizz\")\n",
    "            continue\n",
    "        if i % 5 == 0:\n",
    "            print(\"Buzz\")\n",
    "            continue\n",
    "        print(i)\n",
    "\n",
    "fizzBuzz(15)"
   ]
  },
  {
   "cell_type": "markdown",
   "metadata": {},
   "source": [
    "Determine the fibonacci for n number"
   ]
  },
  {
   "cell_type": "code",
   "execution_count": 2,
   "metadata": {},
   "outputs": [
    {
     "name": "stdout",
     "output_type": "stream",
     "text": [
      "0\n",
      "1\n",
      "1\n",
      "2\n"
     ]
    }
   ],
   "source": [
    "def fibonacci(n):\n",
    "    x1, x2 = 0, 1\n",
    "    count = 0\n",
    "    while count < n:\n",
    "        print(x1)\n",
    "        num = x1 + x2\n",
    "        x1 = x2\n",
    "        x2 = num\n",
    "        count += 1\n",
    "        \n",
    "fibonacci(4)"
   ]
  },
  {
   "cell_type": "markdown",
   "metadata": {},
   "source": [
    "Write a function that finds the first repeated word in a string and stops"
   ]
  },
  {
   "cell_type": "code",
   "execution_count": 3,
   "metadata": {},
   "outputs": [
    {
     "data": {
      "text/plain": [
       "'dd'"
      ]
     },
     "execution_count": 3,
     "metadata": {},
     "output_type": "execute_result"
    }
   ],
   "source": [
    "def firstRepeatedWord(sentence):\n",
    "    words = []\n",
    "    for w in sentence.split():\n",
    "        if w in words:\n",
    "            return w\n",
    "        words.append(w) \n",
    "    \n",
    "firstRepeatedWord(\"dd ab b dd ab\")"
   ]
  },
  {
   "cell_type": "markdown",
   "metadata": {},
   "source": [
    "I didn't get the exact questions written down; however, the goal was to find pairs of values that equal to a target value."
   ]
  },
  {
   "cell_type": "code",
   "execution_count": 4,
   "metadata": {},
   "outputs": [
    {
     "data": {
      "text/plain": [
       "{(5, 7), (6, 6), (9, 3)}"
      ]
     },
     "execution_count": 4,
     "metadata": {},
     "output_type": "execute_result"
    }
   ],
   "source": [
    "from itertools import combinations \n",
    "\n",
    "def stockpairs(values, target):\n",
    "    tagergetpairs = []\n",
    "    combos  = list(combinations(values, 2))\n",
    "    for combo in combos:\n",
    "        if sum(combo) != target:\n",
    "            continue\n",
    "        else:\n",
    "            tagergetpairs.append(combo)\n",
    "    return set(tagergetpairs)\n",
    "\n",
    "stockpairs([5,7,9,13,11,6,6,3,3], 12)"
   ]
  },
  {
   "cell_type": "markdown",
   "metadata": {},
   "source": [
    "Write a function determines if a number is weird or no weird based on certain peramaters"
   ]
  },
  {
   "cell_type": "code",
   "execution_count": 5,
   "metadata": {},
   "outputs": [
    {
     "name": "stdout",
     "output_type": "stream",
     "text": [
      "Weird\n"
     ]
    }
   ],
   "source": [
    "def werid(n):\n",
    "    if n % 2 != 0 or (n % 2 == 0 and n in range(6, 21)):\n",
    "        print(\"Weird\")\n",
    "    elif (n % 2 == 0 and n > 20) or (n % 2 == 0 and n in range(2, 6)) :\n",
    "        print(\"Not Weird\")\n",
    "    \n",
    "werid(14)"
   ]
  },
  {
   "cell_type": "markdown",
   "metadata": {},
   "source": [
    "Take an input and return the sqaured of the numbers with in the range of 0 to the input"
   ]
  },
  {
   "cell_type": "code",
   "execution_count": 6,
   "metadata": {},
   "outputs": [
    {
     "name": "stdout",
     "output_type": "stream",
     "text": [
      "5\n",
      "0\n",
      "1\n",
      "4\n",
      "9\n",
      "16\n"
     ]
    }
   ],
   "source": [
    "n = int(input())\n",
    "for i in range(0, n):\n",
    "    print(i**2)"
   ]
  },
  {
   "cell_type": "markdown",
   "metadata": {},
   "source": [
    "Use text wrap to take a random string and wrap it to a random max width"
   ]
  },
  {
   "cell_type": "code",
   "execution_count": 7,
   "metadata": {},
   "outputs": [
    {
     "name": "stdout",
     "output_type": "stream",
     "text": [
      "akja\n",
      "hgkj\n",
      "hgka\n",
      "j ja\n",
      "hsfj\n",
      "kh\n",
      "ajha\n",
      "jhaf\n",
      "kjd \n",
      "dsfh\n",
      "ajkf\n",
      "hjka\n",
      "h ja\n",
      "hgfj\n",
      "kahg\n",
      "jkah\n",
      "ghaj\n",
      "kgha\n",
      "jkhg\n",
      "k ah\n",
      "gkja\n",
      "hjad\n",
      "kshk\n",
      "ashk\n",
      "a\n"
     ]
    }
   ],
   "source": [
    "import textwrap\n",
    "\n",
    "def wrap(string, max_width):\n",
    "    wrapper = textwrap.TextWrapper(max_width) \n",
    "  \n",
    "    string = wrapper.fill(text=string) \n",
    "    print(string)\n",
    "\n",
    "wrap(\"akjahgkjhgkaj jahsfjkh ajha jhafkjd dsfhajkfhjkah jahgfjkahgjkah ghajkghajkhgk ahgkja hjadkshk ashka \", 4)"
   ]
  },
  {
   "cell_type": "markdown",
   "metadata": {},
   "source": [
    "Mr. Vincent works in a door mat manufacturing company. One day, he designed a new door mat with the following specifications:\n",
    "\n",
    "* Mat size must be N x M. (N is an odd natural number, and M is 3 times .)\n",
    "* The design should have 'WELCOME' written in the center.\n",
    "* The design pattern should only use |, . and - characters."
   ]
  },
  {
   "cell_type": "code",
   "execution_count": 34,
   "metadata": {},
   "outputs": [
    {
     "name": "stdout",
     "output_type": "stream",
     "text": [
      "7 21\n",
      "---------.|.---------\n",
      "------.|..|..|.------\n",
      "---.|..|..|..|..|.---\n",
      "-------WELCOME-------\n",
      "---.|..|..|..|..|.---\n",
      "------.|..|..|.------\n",
      "---------.|.---------\n"
     ]
    }
   ],
   "source": [
    "N, M = map(int,input().split())\n",
    "for i in range(1,N,2): \n",
    "    print(\"{}\".format(\".|.\" * i).center(M, \"-\"))\n",
    "print(\"WELCOME\".center(M, \"-\"))\n",
    "for i in range(N-2,-1,-2): \n",
    "    print(\"{}\".format(\".|.\" * i).center(M, \"-\"))"
   ]
  },
  {
   "cell_type": "markdown",
   "metadata": {},
   "source": [
    "Create a function that converts a range of 1 to n number (inclusive) to \n",
    "\n",
    "1. Decimal\n",
    "1. Octal\n",
    "1. Hexadecimal (capitalized)\n",
    "1. Binary"
   ]
  },
  {
   "cell_type": "code",
   "execution_count": 36,
   "metadata": {},
   "outputs": [
    {
     "name": "stdout",
     "output_type": "stream",
     "text": [
      "   1    1    1    1\n",
      "   2    2    2   10\n",
      "   3    3    3   11\n",
      "   4    4    4  100\n",
      "   5    5    5  101\n",
      "   6    6    6  110\n",
      "   7    7    7  111\n",
      "   8   10    8 1000\n",
      "   9   11    9 1001\n",
      "  10   12    A 1010\n"
     ]
    }
   ],
   "source": [
    "def print_formatted(n):\n",
    "    for i in range(1,n + 1):\n",
    "        convert = n.bit_length()\n",
    "        print(f'{i:{convert}d} {i:{convert}o} {i:{convert}X} {i:{convert}b}')\n",
    "\n",
    "print_formatted(10)"
   ]
  },
  {
   "cell_type": "markdown",
   "metadata": {},
   "source": [
    "# Day 2"
   ]
  },
  {
   "cell_type": "code",
   "execution_count": 8,
   "metadata": {},
   "outputs": [
    {
     "name": "stdout",
     "output_type": "stream",
     "text": [
      "1\n",
      "5\n",
      "6\n",
      "7\n",
      "[[0, 0, 0], [0, 0, 1], [0, 0, 2], [0, 0, 3], [0, 0, 4], [0, 0, 5], [0, 0, 6], [0, 1, 0], [0, 1, 1], [0, 1, 2], [0, 1, 3], [0, 1, 4], [0, 1, 5], [0, 2, 0], [0, 2, 1], [0, 2, 2], [0, 2, 3], [0, 2, 4], [0, 2, 6], [0, 3, 0], [0, 3, 1], [0, 3, 2], [0, 3, 3], [0, 3, 5], [0, 3, 6], [0, 4, 0], [0, 4, 1], [0, 4, 2], [0, 4, 4], [0, 4, 5], [0, 4, 6], [0, 5, 0], [0, 5, 1], [0, 5, 3], [0, 5, 4], [0, 5, 5], [0, 5, 6], [1, 0, 0], [1, 0, 1], [1, 0, 2], [1, 0, 3], [1, 0, 4], [1, 0, 5], [1, 1, 0], [1, 1, 1], [1, 1, 2], [1, 1, 3], [1, 1, 4], [1, 1, 6], [1, 2, 0], [1, 2, 1], [1, 2, 2], [1, 2, 3], [1, 2, 5], [1, 2, 6], [1, 3, 0], [1, 3, 1], [1, 3, 2], [1, 3, 4], [1, 3, 5], [1, 3, 6], [1, 4, 0], [1, 4, 1], [1, 4, 3], [1, 4, 4], [1, 4, 5], [1, 4, 6], [1, 5, 0], [1, 5, 2], [1, 5, 3], [1, 5, 4], [1, 5, 5], [1, 5, 6]]\n"
     ]
    }
   ],
   "source": [
    "if __name__ == '__main__':\n",
    "    x = int(input())\n",
    "    y = int(input())\n",
    "    z = int(input())\n",
    "    n = int(input())\n",
    "\n",
    "    \n",
    "# First create a list that holds input i, j, k\n",
    "# Then create an inclusive range for each input of x, y, z (so x+1 etc)\n",
    "# Finally, ensure that you only get the corrdinates where the sum permutation doesn't equal n\n",
    "print([[i,j,k] for i in range(0,x+1) for j in range(0,y+1) for k in range(0,z+1) if i + j + k != n ])"
   ]
  },
  {
   "cell_type": "markdown",
   "metadata": {},
   "source": [
    "Given the participants' score sheet for your University Sports Day, you are required to find the runner-up score. You are given  scores. Store them in a list and find the score of the runner-up.\n",
    "\n",
    "list = 2, 3, 6, 6, 5"
   ]
  },
  {
   "cell_type": "code",
   "execution_count": 15,
   "metadata": {},
   "outputs": [
    {
     "name": "stdout",
     "output_type": "stream",
     "text": [
      "5\n"
     ]
    }
   ],
   "source": [
    "scores = [2, 3, 6, 6, 5]\n",
    "runner = []\n",
    "for score in scores:\n",
    "    if score != max(scores):\n",
    "        runner.append(score)\n",
    "print(max(runner))"
   ]
  },
  {
   "cell_type": "markdown",
   "metadata": {},
   "source": [
    "There are  students in this class whose names and grades are assembled to build the following list:\n",
    "\n",
    "python students = [['Harry', 37.21], ['Berry', 37.21], ['Tina', 37.2], ['Akriti', 41], ['Harsh', 39]]\n",
    "\n",
    "The lowest grade of  belongs to Tina. The second lowest grade of  belongs to both Harry and Berry, so we order their names alphabetically and print each name on a new line."
   ]
  },
  {
   "cell_type": "code",
   "execution_count": 16,
   "metadata": {
    "scrolled": true
   },
   "outputs": [
    {
     "data": {
      "text/plain": [
       "[['Harry', 37.21],\n",
       " ['Berry', 37.21],\n",
       " ['Tina', 37.2],\n",
       " ['Akriti', 41],\n",
       " ['Harsh', 39]]"
      ]
     },
     "execution_count": 16,
     "metadata": {},
     "output_type": "execute_result"
    }
   ],
   "source": [
    "python_students = [['Harry', 37.21], ['Berry', 37.21], ['Tina', 37.2], ['Akriti', 41], ['Harsh', 39]]\n",
    "python_students"
   ]
  },
  {
   "cell_type": "code",
   "execution_count": 49,
   "metadata": {},
   "outputs": [
    {
     "name": "stdout",
     "output_type": "stream",
     "text": [
      "Berry\n",
      "Harry\n"
     ]
    }
   ],
   "source": [
    "scores = [] \n",
    "for n, s in python_students:\n",
    "    scores.append(s)\n",
    "\n",
    "    \n",
    "names = []\n",
    "for n, s in python_students:\n",
    "    if s == sorted(set(scores))[1]:\n",
    "        names.append(n)\n",
    "\n",
    "names = sorted(names)\n",
    "for name in names:\n",
    "    print(name)"
   ]
  },
  {
   "cell_type": "markdown",
   "metadata": {},
   "source": [
    "# Day 3"
   ]
  },
  {
   "cell_type": "markdown",
   "metadata": {},
   "source": [
    "The provided code stub will read in a dictionary containing key/value pairs of name:[marks] for a list of students. Print the average of the marks array for the student name provided, showing 2 places after the decimal. The resulting output from the provided input code is a dictionary."
   ]
  },
  {
   "cell_type": "code",
   "execution_count": null,
   "metadata": {},
   "outputs": [],
   "source": [
    "mark = student_marks[query_name]\n",
    "answer = round(sum(mark)/len(mark), 2)\n",
    "print(\"{:.2f}\".format(answer))"
   ]
  },
  {
   "cell_type": "markdown",
   "metadata": {},
   "source": [
    "f(x) = x^2\n",
    "\n",
    "You have to pick one element from each list so that the value from the equation below is maximized\n",
    "\n",
    "S = (f(X1) + f(X2)... + f(Xi))**%**M\n",
    " \n",
    "The first line contains 2 space separated integers K and M.\n",
    "The next K lines each contains an integer n sub i, denoting the number of elements in the i^th list, followed by n sub i space separated integers denoting the elements in the list.\n",
    "\n",
    "Constraints\n",
    "\n",
    "* 1 <= K <= 7\n",
    "* 1 <= M <= 1000\n",
    "* 1 <= n sub i <= 7\n",
    "* 1 <= magnitdue in list <= 10^9th"
   ]
  },
  {
   "cell_type": "code",
   "execution_count": null,
   "metadata": {},
   "outputs": [],
   "source": [
    "# Enter your code here. Read input from STDIN. Print output to STDOUT\n",
    "from itertools import product\n",
    "\n",
    "# Maps the count of inputs to k and the individual inputs to M\n",
    "K,M = map(int,input().split())\n",
    "# drops the first input, which is the count, from the list and assings the range of K to n\n",
    "N = (list(map(int, input().split()))[1:] for _ in range(K))\n",
    "# uses a lambda function to get a list of the sum of squares of Is % M of the product of N\n",
    "results = map(lambda x: sum(i**2 for i in x)%M, product(*N))\n",
    "# prints the max number from the list\n",
    "print(max(results))"
   ]
  },
  {
   "cell_type": "markdown",
   "metadata": {},
   "source": [
    "You are given a string S.\n",
    "Your task is to print all possible combinations, up to size k, of the string in lexicographic sorted order.\n",
    "\n",
    "~~The string contains only UPPERCASE characters.~~"
   ]
  },
  {
   "cell_type": "code",
   "execution_count": null,
   "metadata": {},
   "outputs": [],
   "source": [
    "# import combinations from intertools\n",
    "from itertools import combinations\n",
    "\n",
    "# assigns the string (first input) to S and the number of combinations from the second input to k\n",
    "S, k =  input().split()\n",
    "\n",
    "# creates a list of combos which joins the number of combinations for an inclusive range of k for each combo \n",
    "# i.e. if there are 2 combinations than it will get each combination of 1 letter from the string and each combination of 2 letters\n",
    "combos = [ ''.join(combo) for i in range(1,int(k)+1) for combo in combinations(sorted(S),i)]\n",
    "\n",
    "# print all the permutations of the combos on seperate lines\n",
    "print(*combos, sep='\\n')"
   ]
  },
  {
   "cell_type": "code",
   "execution_count": null,
   "metadata": {},
   "outputs": [],
   "source": []
  }
 ],
 "metadata": {
  "kernelspec": {
   "display_name": "Python 3",
   "language": "python",
   "name": "python3"
  },
  "language_info": {
   "codemirror_mode": {
    "name": "ipython",
    "version": 3
   },
   "file_extension": ".py",
   "mimetype": "text/x-python",
   "name": "python",
   "nbconvert_exporter": "python",
   "pygments_lexer": "ipython3",
   "version": "3.8.3"
  }
 },
 "nbformat": 4,
 "nbformat_minor": 4
}
