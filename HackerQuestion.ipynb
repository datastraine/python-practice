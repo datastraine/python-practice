{
 "cells": [
  {
   "cell_type": "markdown",
   "metadata": {},
   "source": [
    "# Day 1"
   ]
  },
  {
   "cell_type": "markdown",
   "metadata": {},
   "source": [
    "Createa a fizzBuzz function based on peramaters"
   ]
  },
  {
   "cell_type": "code",
   "execution_count": 1,
   "metadata": {},
   "outputs": [
    {
     "name": "stdout",
     "output_type": "stream",
     "text": [
      "1\n",
      "2\n",
      "Fizz\n",
      "4\n",
      "Buzz\n",
      "Fizz\n",
      "7\n",
      "8\n",
      "Fizz\n",
      "Buzz\n",
      "11\n",
      "Fizz\n",
      "13\n",
      "14\n",
      "FizzBuzz\n"
     ]
    }
   ],
   "source": [
    "def fizzBuzz(n):\n",
    "    for i in range (1, n+1):\n",
    "        if i % 15 == 0:\n",
    "            print(\"FizzBuzz\")\n",
    "            continue\n",
    "        if i % 3 == 0:\n",
    "            print (\"Fizz\")\n",
    "            continue\n",
    "        if i % 5 == 0:\n",
    "            print(\"Buzz\")\n",
    "            continue\n",
    "        print(i)\n",
    "\n",
    "fizzBuzz(15)"
   ]
  },
  {
   "cell_type": "markdown",
   "metadata": {},
   "source": [
    "Determine the fibonacci for n number"
   ]
  },
  {
   "cell_type": "code",
   "execution_count": 2,
   "metadata": {},
   "outputs": [
    {
     "name": "stdout",
     "output_type": "stream",
     "text": [
      "0\n",
      "1\n",
      "1\n",
      "2\n"
     ]
    }
   ],
   "source": [
    "def fibonacci(n):\n",
    "    x1, x2 = 0, 1\n",
    "    count = 0\n",
    "    while count < n:\n",
    "        print(x1)\n",
    "        num = x1 + x2\n",
    "        x1 = x2\n",
    "        x2 = num\n",
    "        count += 1\n",
    "        \n",
    "fibonacci(4)"
   ]
  },
  {
   "cell_type": "markdown",
   "metadata": {},
   "source": [
    "Write a function that finds the first repeated word in a string and stops"
   ]
  },
  {
   "cell_type": "code",
   "execution_count": 3,
   "metadata": {},
   "outputs": [
    {
     "data": {
      "text/plain": [
       "'dd'"
      ]
     },
     "execution_count": 3,
     "metadata": {},
     "output_type": "execute_result"
    }
   ],
   "source": [
    "def firstRepeatedWord(sentence):\n",
    "    words = []\n",
    "    for w in sentence.split():\n",
    "        if w in words:\n",
    "            return w\n",
    "        words.append(w) \n",
    "    \n",
    "firstRepeatedWord(\"dd ab b dd ab\")"
   ]
  },
  {
   "cell_type": "markdown",
   "metadata": {},
   "source": [
    "I didn't get the exact questions written down; however, the goal was to find pairs of values that equal to a target value."
   ]
  },
  {
   "cell_type": "code",
   "execution_count": 4,
   "metadata": {},
   "outputs": [
    {
     "data": {
      "text/plain": [
       "{(5, 7), (6, 6), (9, 3)}"
      ]
     },
     "execution_count": 4,
     "metadata": {},
     "output_type": "execute_result"
    }
   ],
   "source": [
    "from itertools import combinations \n",
    "\n",
    "def stockpairs(values, target):\n",
    "    tagergetpairs = []\n",
    "    combos  = list(combinations(values, 2))\n",
    "    for combo in combos:\n",
    "        if sum(combo) != target:\n",
    "            continue\n",
    "        else:\n",
    "            tagergetpairs.append(combo)\n",
    "    return set(tagergetpairs)\n",
    "\n",
    "stockpairs([5,7,9,13,11,6,6,3,3], 12)"
   ]
  },
  {
   "cell_type": "markdown",
   "metadata": {},
   "source": [
    "Write a function determines if a number is weird or no weird based on certain peramaters"
   ]
  },
  {
   "cell_type": "code",
   "execution_count": 5,
   "metadata": {},
   "outputs": [
    {
     "name": "stdout",
     "output_type": "stream",
     "text": [
      "Weird\n"
     ]
    }
   ],
   "source": [
    "def werid(n):\n",
    "    if n % 2 != 0 or (n % 2 == 0 and n in range(6, 21)):\n",
    "        print(\"Weird\")\n",
    "    elif (n % 2 == 0 and n > 20) or (n % 2 == 0 and n in range(2, 6)) :\n",
    "        print(\"Not Weird\")\n",
    "    \n",
    "werid(14)"
   ]
  },
  {
   "cell_type": "markdown",
   "metadata": {},
   "source": [
    "Take an input and return the sqaured of the numbers with in the range of 0 to the input"
   ]
  },
  {
   "cell_type": "code",
   "execution_count": 6,
   "metadata": {},
   "outputs": [
    {
     "name": "stdout",
     "output_type": "stream",
     "text": [
      "5\n",
      "0\n",
      "1\n",
      "4\n",
      "9\n",
      "16\n"
     ]
    }
   ],
   "source": [
    "n = int(input())\n",
    "for i in range(0, n):\n",
    "    print(i**2)"
   ]
  },
  {
   "cell_type": "markdown",
   "metadata": {},
   "source": [
    "Use text wrap to take a random string and wrap it to a random max width"
   ]
  },
  {
   "cell_type": "code",
   "execution_count": 7,
   "metadata": {},
   "outputs": [
    {
     "name": "stdout",
     "output_type": "stream",
     "text": [
      "akja\n",
      "hgkj\n",
      "hgka\n",
      "j ja\n",
      "hsfj\n",
      "kh\n",
      "ajha\n",
      "jhaf\n",
      "kjd \n",
      "dsfh\n",
      "ajkf\n",
      "hjka\n",
      "h ja\n",
      "hgfj\n",
      "kahg\n",
      "jkah\n",
      "ghaj\n",
      "kgha\n",
      "jkhg\n",
      "k ah\n",
      "gkja\n",
      "hjad\n",
      "kshk\n",
      "ashk\n",
      "a\n"
     ]
    }
   ],
   "source": [
    "import textwrap\n",
    "\n",
    "def wrap(string, max_width):\n",
    "    wrapper = textwrap.TextWrapper(max_width) \n",
    "  \n",
    "    string = wrapper.fill(text=string) \n",
    "    print(string)\n",
    "\n",
    "wrap(\"akjahgkjhgkaj jahsfjkh ajha jhafkjd dsfhajkfhjkah jahgfjkahgjkah ghajkghajkhgk ahgkja hjadkshk ashka \", 4)"
   ]
  },
  {
   "cell_type": "markdown",
   "metadata": {},
   "source": [
    "Mr. Vincent works in a door mat manufacturing company. One day, he designed a new door mat with the following specifications:\n",
    "\n",
    "* Mat size must be N x M. (N is an odd natural number, and M is 3 times .)\n",
    "* The design should have 'WELCOME' written in the center.\n",
    "* The design pattern should only use |, . and - characters."
   ]
  },
  {
   "cell_type": "code",
   "execution_count": 34,
   "metadata": {},
   "outputs": [
    {
     "name": "stdout",
     "output_type": "stream",
     "text": [
      "7 21\n",
      "---------.|.---------\n",
      "------.|..|..|.------\n",
      "---.|..|..|..|..|.---\n",
      "-------WELCOME-------\n",
      "---.|..|..|..|..|.---\n",
      "------.|..|..|.------\n",
      "---------.|.---------\n"
     ]
    }
   ],
   "source": [
    "N, M = map(int,input().split())\n",
    "for i in range(1,N,2): \n",
    "    print(\"{}\".format(\".|.\" * i).center(M, \"-\"))\n",
    "print(\"WELCOME\".center(M, \"-\"))\n",
    "for i in range(N-2,-1,-2): \n",
    "    print(\"{}\".format(\".|.\" * i).center(M, \"-\"))"
   ]
  },
  {
   "cell_type": "markdown",
   "metadata": {},
   "source": [
    "Create a function that converts a range of 1 to n number (inclusive) to \n",
    "\n",
    "1. Decimal\n",
    "1. Octal\n",
    "1. Hexadecimal (capitalized)\n",
    "1. Binary"
   ]
  },
  {
   "cell_type": "code",
   "execution_count": 36,
   "metadata": {},
   "outputs": [
    {
     "name": "stdout",
     "output_type": "stream",
     "text": [
      "   1    1    1    1\n",
      "   2    2    2   10\n",
      "   3    3    3   11\n",
      "   4    4    4  100\n",
      "   5    5    5  101\n",
      "   6    6    6  110\n",
      "   7    7    7  111\n",
      "   8   10    8 1000\n",
      "   9   11    9 1001\n",
      "  10   12    A 1010\n"
     ]
    }
   ],
   "source": [
    "def print_formatted(n):\n",
    "    for i in range(1,n + 1):\n",
    "        convert = n.bit_length()\n",
    "        print(f'{i:{convert}d} {i:{convert}o} {i:{convert}X} {i:{convert}b}')\n",
    "\n",
    "print_formatted(10)"
   ]
  },
  {
   "cell_type": "code",
   "execution_count": null,
   "metadata": {},
   "outputs": [],
   "source": []
  }
 ],
 "metadata": {
  "kernelspec": {
   "display_name": "Python 3",
   "language": "python",
   "name": "python3"
  },
  "language_info": {
   "codemirror_mode": {
    "name": "ipython",
    "version": 3
   },
   "file_extension": ".py",
   "mimetype": "text/x-python",
   "name": "python",
   "nbconvert_exporter": "python",
   "pygments_lexer": "ipython3",
   "version": "3.8.3"
  }
 },
 "nbformat": 4,
 "nbformat_minor": 4
}
